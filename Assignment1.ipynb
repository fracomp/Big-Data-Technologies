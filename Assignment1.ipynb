{
 "cells": [
  {
   "cell_type": "markdown",
   "metadata": {},
   "source": [
    "# Assignment 3 - Data Analysis"
   ]
  },
  {
   "cell_type": "markdown",
   "metadata": {},
   "source": [
    "The goal of this assignment is to provide data analysis within the context of a business application. The topic we are going to cover is about patient comments in regards to drug effects.\n",
    "\n",
    "I decided to develop all the analysis in Python, with the support of Jupyter notebook that allows me to mix code with text. The main reason of this choise is because Python is an open source tool while SAS is a closed source and does not support transparent functionalities. This enable me to learn something I can easily re-use in the future."
   ]
  },
  {
   "cell_type": "markdown",
   "metadata": {},
   "source": [
    "This assignment will be elaborated through the following steps:\n",
    "\n",
    "0. Data pre-processing\n",
    "\n",
    "1. Question 1\n",
    "\n",
    "2. Question 2\n",
    "\n",
    "3. Question 3\n",
    "\n",
    "4. Question 4\n",
    "\n",
    "5. Question 5"
   ]
  },
  {
   "cell_type": "markdown",
   "metadata": {},
   "source": [
    "### Data pre-processing"
   ]
  },
  {
   "cell_type": "markdown",
   "metadata": {},
   "source": [
    "This introductory step is probably the most important for the completion of the project. We were giving more than one thousand text files in regards to patient comments to drug effects. This step is aiming to move all this file texts into a more manageable dataframe. This will make our analysis much easier and assist us with graphical display and text mining.\n",
    "\n",
    "Some crucial aspects of this phase will be explained in details (Some comments are left in the code to help the reader better understand the flow."
   ]
  },
  {
   "cell_type": "code",
   "execution_count": 586,
   "metadata": {},
   "outputs": [],
   "source": [
    "# IMPORTANT LIBRARIES IMPORT\n",
    "import os   #read from files\n",
    "import pandas as pd\n",
    "import re  #regular expression\n",
    "import numpy as np\n",
    "import matplotlib.pyplot as plt #graphical display\n",
    "import matplotlib as mp\n",
    "import collections #count number of occurence within a list/series type\n",
    "from sklearn.feature_extraction.text import CountVectorizer  #text mining\n",
    "from nltk.corpus import stopwords    #text mining\n",
    "from nltk.stem import PorterStemmer\n",
    "from sklearn.feature_extraction.text import CountVectorizer"
   ]
  },
  {
   "cell_type": "markdown",
   "metadata": {},
   "source": [
    "Below some important variables and lists are specified. In particular:\n",
    "\n",
    "- *dosage_1* and *dosage_2* are regular expression that are able to capture the dosage of the medication that patients take. \n",
    "\n",
    "- *meds* is a list of all medications that can be found in our patient comments.\n",
    "\n",
    "- *side_effects* is a list of all possible effects that a patient can experience after using a prescription drug.\n",
    "\n",
    "- *sleep_side_effects* will be used later on in Question3. This is a list of some of the common effect related to sleep issues.\n"
   ]
  },
  {
   "cell_type": "code",
   "execution_count": 587,
   "metadata": {},
   "outputs": [],
   "source": [
    "#Please adjust this path according to where you saved the textfiles\n",
    "path = '/Users/Francesco/Desktop/Francesco/University/BigDataTechnologies/Assignment3/DrugDest/'\n",
    "dosage_1 = '[0-9]+[\\.][0-9]+\\s?mg\\.?' #this detects if there a number DOT number  mg\n",
    "dosage_2 ='[\\d]+\\s?mg\\.?' #this just detects numbers with mg\n",
    "\n",
    "meds = [\n",
    "'Abidal',\n",
    "'Abradon',\n",
    "'Acquil',\n",
    "'Ambutrin',\n",
    "'Amelorex',\n",
    "'Amicoran',\n",
    "'Amlican',\n",
    "'Aquiven',\n",
    "'Attentor',\n",
    "'Bifental',\n",
    "'Captalan',\n",
    "'Celifen',\n",
    "'Cenerol',\n",
    "'Concordan',\n",
    "'Detall',\n",
    "'Donital',\n",
    "'Ecstapin',\n",
    "'Elevex',\n",
    "'Escalan',\n",
    "'Espican',\n",
    "'Essequal',\n",
    "'Exulactin',\n",
    "'Formilan',\n",
    "'Fortifex',\n",
    "'Gemulex',\n",
    "'Habillan',\n",
    "'Halinol',\n",
    "'Hydrazan',\n",
    "'Ibuprofen',\n",
    "'Imitap',\n",
    "'Indrazine',\n",
    "'Intanol',\n",
    "'Isolex',\n",
    "'Maril',\n",
    "'Meriflex',\n",
    "'Nextam',\n",
    "'Noderall',\n",
    "'Noricam',\n",
    "'Norulen',\n",
    "'Parzonal',\n",
    "'Perinol',\n",
    "'Placilam',\n",
    "'Prexifan',\n",
    "'Promican',\n",
    "'Pronizen',\n",
    "'Quiescal',\n",
    "'Raniculex',\n",
    "'Reculan',\n",
    "'Reqlyx',\n",
    "'Reqlyz',\n",
    "'Respirex',\n",
    "'Respitan',\n",
    "'Revinor',\n",
    "'Septamyl',\n",
    "'Suprizol',\n",
    "'Sustify',\n",
    "'Tacifen',\n",
    "'Tanilor',\n",
    "'Taplex',\n",
    "'Tenactol',\n",
    "'Vanquixal',\n",
    "'Zindol'\n",
    "]\n",
    "\n",
    "side_effects = [\n",
    "'Abdominal pain',\n",
    "'Aggression',\n",
    "'Agitation',\n",
    "'Allergic reaction',\n",
    "'Amnesia',\n",
    "'Anemia',\n",
    "'Back pain',\n",
    "'Blindness',\n",
    "'Blurred vision',\n",
    "'Bone pain',\n",
    "'Breast pain',\n",
    "'breathing',\n",
    "'Chest pain',\n",
    "'Chills',\n",
    "'Cold symptoms',\n",
    "'Colitis',\n",
    "'Colored vision',\n",
    "'Confusion',\n",
    "'Constipation',\n",
    "'Cough',\n",
    "'Diabetes mellitus',\n",
    "'Diarrhea',\n",
    "'Dizziness',\n",
    "'Dry mouth',\n",
    "'Dyspepsia',\n",
    "'Exhaustion',\n",
    "'Fainting',\n",
    "'Fast heartbeat',\n",
    "'Fever',\n",
    "'Fluid in the lungs',\n",
    "'Frequent urination',\n",
    "'Hair loss',\n",
    "'Hallucinations',\n",
    "'Headache',\n",
    "'Heart attack',\n",
    "'Heart palpitations',\n",
    "'Heartburn',\n",
    "'Hepatitus',\n",
    "'High blood pressure',\n",
    "'Hostile',\n",
    "'Hostility',\n",
    "'Hyperactive',\n",
    "'Hyperglycemia',\n",
    "'Impulsive',\n",
    "'Indigestion',\n",
    "'Insomnia',\n",
    "'Intestinal bleeding',\n",
    "'Irregular heartbeat',\n",
    "'Irritability',\n",
    "'Irritable',\n",
    "'Itching',\n",
    "'Jaundice',\n",
    "'Joint pain',\n",
    "'Ketoacidosis',\n",
    "'Kidney failure',\n",
    "'Leg cramps',\n",
    "'Liver damage',\n",
    "'Loss of appetite',\n",
    "'Low blood cell counts',\n",
    "'Low blood pressure',\n",
    "'Lower respiratory infection',\n",
    "'Moodiness',\n",
    "'Muscle pain',\n",
    "'Nausea',\n",
    "'Nightmares',\n",
    "'Overly excited',\n",
    "'Palpitations',\n",
    "'Pancreatitis',\n",
    "'Panicky',\n",
    "'Personality disorder',\n",
    "'Postural hypotension',\n",
    "'Pulmonary thrombosis',\n",
    "'Rectal bleeding',\n",
    "'Seizures',\n",
    "'Severe skin reactions',\n",
    "'Severely restless',\n",
    "'shortness of breath',\n",
    "'Shortness of breath',\n",
    "'Skin rash',\n",
    "'Sleeplessness',\n",
    "'Slow heartbeat',\n",
    "'Sore throat',\n",
    "'Spasm',\n",
    "'Speech disorder',\n",
    "'Stomach bleeding',\n",
    "'Stomach pain',\n",
    "'Stroke',\n",
    "'Sweating',\n",
    "'Sweats',\n",
    "'Swelling',\n",
    "'Thrombosis',\n",
    "'tinnitus',\n",
    "'Tiredness',\n",
    "'Upper respiratory infection',\n",
    "'Upset Stomach',\n",
    "'urinary retention',\n",
    "'Urinary tract infection',\n",
    "'vertigo',\n",
    "'Vomiting',\n",
    "'Weakness',\n",
    "'Weight gain',\n",
    "'Weight loss'\n",
    "]\n",
    "\n",
    "sleep_side_effects=['issues sleeping',\n",
    "                    'trouble sleeping',\n",
    "                    'not sleeping',\n",
    "                    'cannot sleep',\n",
    "                    '''can't sleep''',\n",
    "                    'could not sleep',\n",
    "                    'insomnia',\n",
    "                    'sleeplessness',\n",
    "                    'lack of sleep',\n",
    "                    'without sleep',\n",
    "                    'inability to sleep',\n",
    "                    'wakefulness',\n",
    "                    'cant sleep',\n",
    "                    'nightmares']"
   ]
  },
  {
   "cell_type": "markdown",
   "metadata": {},
   "source": [
    "The following code snippet aims to read each individual text file and return a series of lists. These lists will be populated with the appropriate content. \n",
    "\n",
    "For example, the list *meds_present* will be populated with the medications present in a certain file text. If more than one medications is present in a single text file a list will be generated.\n",
    "Therefore, technically speaking, these are list of lists."
   ]
  },
  {
   "cell_type": "markdown",
   "metadata": {},
   "source": [
    "A simple example has been given in order to better explain what said above.\n",
    "\n",
    "*file1139.txt.txt*=\"My psychiatrist has me on 120 mg daily of Abidal. It seems to be working. I started out on 60 mg and then had to go up to 90 mg and am now on 120 mg. I was on Ecstapin prior to Abidal.\"\n",
    "\n",
    "The list *meds_present* for that particular index will be populated with the following list.\n",
    "\n",
    "*meds_present* = [\"Ecstapin\",\"Abidal\"] \n",
    "\n",
    "Finally, a dataframe will be built from the given populated lists."
   ]
  },
  {
   "cell_type": "code",
   "execution_count": 588,
   "metadata": {},
   "outputs": [],
   "source": [
    "#Those list will be generated during the loop and will be the \"base\" of the dataframe\n",
    "file_name = []\n",
    "l = [] #this is a list that contains the complete patient comment\n",
    "dos_1 = []\n",
    "dos_2 = []\n",
    "meds_present = []\n",
    "side_effect_present = []\n",
    "sleep_effect_present = []\n",
    "\n",
    "\n",
    "fileList = os.listdir(path) #listdir returns a list of all the txtfiles in the DrugDest folder\n",
    "for i in fileList:\n",
    "    file = open(os.path.join(path+ i), 'r') #open each file in reading mode\n",
    "    #read file\n",
    "    text = file.readlines()\n",
    "    file_content = text[0] \n",
    "    #add file name and content to list\n",
    "    file_name.append(i)\n",
    "    l.append(file_content)\n",
    "    #regex to check for dosage1 and dosage1\n",
    "    dos_1.append(re.findall(dosage_1, file_content))\n",
    "    dos_2.append(re.findall(dosage_2, file_content))\n",
    "    #check if any meds name or side effect is present and add to list\n",
    "    med = [word for word in meds if word.lower() in file_content.lower()]\n",
    "    meds_present.append(med)\n",
    "    effect = [word for word in side_effects if word.lower() in file_content]\n",
    "    side_effect_present.append(effect)\n",
    "    #check if any sleep effect is present and add to list (important for question 3)\n",
    "    sleep_effect=[word for word in sleep_side_effects if word.lower() in file_content]\n",
    "    sleep_effect_present.append(sleep_effect)\n",
    "    \n",
    "    \n",
    "#df = pd.DataFrame(file_name)\n",
    "df = pd.DataFrame()\n",
    "df['file_name']=file_name\n",
    "df['text'] = l\n",
    "df['dos_1'] = dos_1\n",
    "df['dos_2'] = dos_2\n",
    "df['med'] = meds_present\n",
    "df['side_effect'] = side_effect_present\n",
    "df['sleep_effect'] = sleep_effect_present"
   ]
  },
  {
   "cell_type": "markdown",
   "metadata": {},
   "source": [
    "It is always a good habit to check if the created dataframe matches the initial expectations. Therefore, the first 5 lines will be visualized. \n",
    "In addition, we want to check the total number of documents and if that particular example given above (*file1139.txt*) actually returns \"Ecstapin\"and \"Abidal\" in the medication present."
   ]
  },
  {
   "cell_type": "code",
   "execution_count": 589,
   "metadata": {},
   "outputs": [
    {
     "data": {
      "text/html": [
       "<div>\n",
       "<style scoped>\n",
       "    .dataframe tbody tr th:only-of-type {\n",
       "        vertical-align: middle;\n",
       "    }\n",
       "\n",
       "    .dataframe tbody tr th {\n",
       "        vertical-align: top;\n",
       "    }\n",
       "\n",
       "    .dataframe thead th {\n",
       "        text-align: right;\n",
       "    }\n",
       "</style>\n",
       "<table border=\"1\" class=\"dataframe\">\n",
       "  <thead>\n",
       "    <tr style=\"text-align: right;\">\n",
       "      <th></th>\n",
       "      <th>file_name</th>\n",
       "      <th>text</th>\n",
       "      <th>dos_1</th>\n",
       "      <th>dos_2</th>\n",
       "      <th>med</th>\n",
       "      <th>side_effect</th>\n",
       "      <th>sleep_effect</th>\n",
       "    </tr>\n",
       "  </thead>\n",
       "  <tbody>\n",
       "    <tr>\n",
       "      <th>0</th>\n",
       "      <td>file1.docx.txt</td>\n",
       "      <td>This medication made me gain 40 pounds it has ...</td>\n",
       "      <td>[]</td>\n",
       "      <td>[]</td>\n",
       "      <td>[]</td>\n",
       "      <td>[]</td>\n",
       "      <td>[]</td>\n",
       "    </tr>\n",
       "    <tr>\n",
       "      <th>1</th>\n",
       "      <td>file10.txt.txt</td>\n",
       "      <td>have been on 10mg prexifan for 6 months along ...</td>\n",
       "      <td>[]</td>\n",
       "      <td>[10mg, 2000mg, 1mg]</td>\n",
       "      <td>[Fortifex, Gemulex, Noderall, Prexifan]</td>\n",
       "      <td>[]</td>\n",
       "      <td>[]</td>\n",
       "    </tr>\n",
       "    <tr>\n",
       "      <th>2</th>\n",
       "      <td>file100.txt.txt</td>\n",
       "      <td>At first I liked it, I took it along with Esca...</td>\n",
       "      <td>[]</td>\n",
       "      <td>[5mg.]</td>\n",
       "      <td>[Escalan]</td>\n",
       "      <td>[]</td>\n",
       "      <td>[]</td>\n",
       "    </tr>\n",
       "    <tr>\n",
       "      <th>3</th>\n",
       "      <td>file1000.txt.txt</td>\n",
       "      <td>This drug caused extreme nausea and didn't hel...</td>\n",
       "      <td>[]</td>\n",
       "      <td>[]</td>\n",
       "      <td>[]</td>\n",
       "      <td>[Nausea]</td>\n",
       "      <td>[]</td>\n",
       "    </tr>\n",
       "    <tr>\n",
       "      <th>4</th>\n",
       "      <td>file1001.txt.txt</td>\n",
       "      <td>When I started using Abidal I was running the ...</td>\n",
       "      <td>[]</td>\n",
       "      <td>[60 mg, 30 mg.]</td>\n",
       "      <td>[Abidal, Ecstapin]</td>\n",
       "      <td>[Nausea]</td>\n",
       "      <td>[]</td>\n",
       "    </tr>\n",
       "  </tbody>\n",
       "</table>\n",
       "</div>"
      ],
      "text/plain": [
       "          file_name                                               text dos_1  \\\n",
       "0    file1.docx.txt  This medication made me gain 40 pounds it has ...    []   \n",
       "1    file10.txt.txt  have been on 10mg prexifan for 6 months along ...    []   \n",
       "2   file100.txt.txt  At first I liked it, I took it along with Esca...    []   \n",
       "3  file1000.txt.txt  This drug caused extreme nausea and didn't hel...    []   \n",
       "4  file1001.txt.txt  When I started using Abidal I was running the ...    []   \n",
       "\n",
       "                 dos_2                                      med side_effect  \\\n",
       "0                   []                                       []          []   \n",
       "1  [10mg, 2000mg, 1mg]  [Fortifex, Gemulex, Noderall, Prexifan]          []   \n",
       "2               [5mg.]                                [Escalan]          []   \n",
       "3                   []                                       []    [Nausea]   \n",
       "4      [60 mg, 30 mg.]                       [Abidal, Ecstapin]    [Nausea]   \n",
       "\n",
       "  sleep_effect  \n",
       "0           []  \n",
       "1           []  \n",
       "2           []  \n",
       "3           []  \n",
       "4           []  "
      ]
     },
     "execution_count": 589,
     "metadata": {},
     "output_type": "execute_result"
    }
   ],
   "source": [
    "df.head()"
   ]
  },
  {
   "cell_type": "code",
   "execution_count": 590,
   "metadata": {},
   "outputs": [
    {
     "name": "stdout",
     "output_type": "stream",
     "text": [
      "The total number of documents is 1414\n"
     ]
    }
   ],
   "source": [
    "print(\"The total number of documents is\",df.shape[0])"
   ]
  },
  {
   "cell_type": "code",
   "execution_count": 591,
   "metadata": {},
   "outputs": [
    {
     "data": {
      "text/plain": [
       "139    [Abidal, Ecstapin]\n",
       "Name: med, dtype: object"
      ]
     },
     "execution_count": 591,
     "metadata": {},
     "output_type": "execute_result"
    }
   ],
   "source": [
    "df[df.file_name=='file1139.txt.txt'].med"
   ]
  },
  {
   "cell_type": "markdown",
   "metadata": {},
   "source": [
    "The medications *Ecstapin* and *Abidal* have been found for that particular patient comment."
   ]
  },
  {
   "cell_type": "markdown",
   "metadata": {},
   "source": [
    "### Question 1 -> How many documents mention a medication, or a dosage, or a side effect?\n"
   ]
  },
  {
   "cell_type": "markdown",
   "metadata": {},
   "source": [
    "##### How the chart(s) was/were produced"
   ]
  },
  {
   "cell_type": "markdown",
   "metadata": {},
   "source": [
    "In order to answer this question we need to be able to count how many documents mention a medication or a dosage or a side effect. To achieve this, a preliminary boolean list for each category will be created. \n",
    "For example, *is_med_present* returns a list of boolean where:\n",
    "\n",
    "- True means that the document mentions a certain medication\n",
    "- False means that the document does not mention any medication\n",
    "\n",
    "Similar comment can be done for *is_dosage_present* and *is_side_effect_present*.\n",
    "\n",
    "Finally, we only need to count how many True are present in each boolean list and plot a graph."
   ]
  },
  {
   "cell_type": "code",
   "execution_count": 592,
   "metadata": {},
   "outputs": [],
   "source": [
    "# Get a boolean list representing which row satisfies the condition \n",
    "is_med_present = df.apply(lambda x: True if len(x['med'])>0  else False , axis=1)\n",
    "is_dosage_present = df.apply(lambda x: True if (len(x['dos_1'])>0 or len(x['dos_2'])>0) else False , axis=1)\n",
    "is_side_effect_present = df.apply(lambda x: True if len(x['side_effect'])>0  else False , axis=1)\n",
    "\n",
    "# Count number of True in series\n",
    "count_meds_is_present = len(is_med_present[is_med_present == True].index)\n",
    "count_dosage_is_present = len(is_dosage_present[is_dosage_present == True].index)\n",
    "count_side_effect_is_present = len(is_side_effect_present[is_side_effect_present == True].index)"
   ]
  },
  {
   "cell_type": "markdown",
   "metadata": {},
   "source": [
    "##### Chart "
   ]
  },
  {
   "cell_type": "code",
   "execution_count": 593,
   "metadata": {},
   "outputs": [
    {
     "data": {
      "image/png": "[encoded data removed]",
      "text/plain": [
       "<Figure size 720x576 with 1 Axes>"
      ]
     },
     "metadata": {
      "needs_background": "light"
     },
     "output_type": "display_data"
    }
   ],
   "source": [
    "objects = ('medication', 'side effect', 'dosage')\n",
    "values = [count_meds_is_present, count_side_effect_is_present, count_dosage_is_present]\n",
    "\n",
    "#Bar plot is the suitable graph for since we are dealing with a categorical variable\n",
    "plt.figure(figsize=(10,8)) #size of the plot\n",
    "plt.bar(objects, values,color=['lightblue'])\n",
    "plt.ylabel('Number of documents')\n",
    "plt.title('How many documents mention a medication, or a dosage, or a side effect?')\n",
    "plt.show()\n"
   ]
  },
  {
   "cell_type": "markdown",
   "metadata": {},
   "source": [
    "##### Discussion"
   ]
  },
  {
   "cell_type": "markdown",
   "metadata": {},
   "source": [
    "Bar chart is one of the best graphical display for a categorical variable. According to the graph, the majority of the documents mentioned a medication, followed by a side effect and then a dosage.\n",
    "To be precise, the following print statement sums up the correct number of documents per category."
   ]
  },
  {
   "cell_type": "code",
   "execution_count": 594,
   "metadata": {},
   "outputs": [
    {
     "name": "stdout",
     "output_type": "stream",
     "text": [
      "The number of documents that mention a medication is 710\n",
      "The number of documents that mention a side effect is 433\n",
      "The number of documents that mention a dosage is 308\n"
     ]
    }
   ],
   "source": [
    "print('The number of documents that mention a medication is',count_meds_is_present)\n",
    "print('The number of documents that mention a side effect is',count_side_effect_is_present)\n",
    "print('The number of documents that mention a dosage is',count_dosage_is_present)"
   ]
  },
  {
   "cell_type": "markdown",
   "metadata": {},
   "source": [
    "### Question 2 -> How many documents mention each medication?"
   ]
  },
  {
   "cell_type": "markdown",
   "metadata": {},
   "source": [
    "Display the counts of number of documents that mention each of the following medications:\n",
    "\n",
    "- Abidal\n",
    "- Cenerol\n",
    "- Ecstapin\n",
    "- Fortifex\n",
    "- Prexifan"
   ]
  },
  {
   "cell_type": "markdown",
   "metadata": {},
   "source": [
    "##### How the chart(s) was/were produced"
   ]
  },
  {
   "cell_type": "markdown",
   "metadata": {},
   "source": [
    "Similarly to what we have done in Question 1, the goal here is counting how many documents mention the selected medications given above.\n",
    "Once again, I will create preliminary boolean lists that are able to detect whether a certain medication is present in that patient comment.\n",
    "For example, *is_med_wt_Abidal* returns a list of boolean where:\n",
    "\n",
    "- True means that document mentions Abidal\n",
    "- False means that document does not mention Abidal\n",
    "\n",
    "Finally, we only need to count how many True are present in each boolean lists and plot a graph."
   ]
  },
  {
   "cell_type": "code",
   "execution_count": 595,
   "metadata": {},
   "outputs": [],
   "source": [
    "wt=['Abidal','Cenerol','Ecstapin','Fortifex','Prexifan'] #selected medications\n",
    "\n",
    "# Get a boolean list representing which row satisfies the condition\n",
    "is_med_wt_Abidal = df.apply(lambda x: True if wt[0] in x['med'] else False , axis=1)\n",
    "is_med_wt_Cenerol = df.apply(lambda x: True if wt[1] in x['med'] else False , axis=1)\n",
    "is_med_wt_Ecstapin = df.apply(lambda x: True if wt[2] in x['med'] else False , axis=1)\n",
    "is_med_wt_Fortifex = df.apply(lambda x: True if wt[3] in x['med'] else False , axis=1)\n",
    "is_med_wt_Prexifan = df.apply(lambda x: True if wt[4] in x['med'] else False , axis=1)\n",
    "\n",
    "#Count number of True in series\n",
    "is_Abidal = len(is_med_wt_Abidal[is_med_wt_Abidal == True].index)\n",
    "is_Cenerol = len(is_med_wt_Cenerol[is_med_wt_Cenerol == True].index)\n",
    "is_Ecstapin = len(is_med_wt_Ecstapin[is_med_wt_Ecstapin == True].index)\n",
    "is_Fortifex = len(is_med_wt_Fortifex[is_med_wt_Fortifex == True].index)\n",
    "is_Prexifan = len(is_med_wt_Prexifan[is_med_wt_Prexifan == True].index)\n"
   ]
  },
  {
   "cell_type": "markdown",
   "metadata": {},
   "source": [
    "##### Chart "
   ]
  },
  {
   "cell_type": "code",
   "execution_count": 596,
   "metadata": {},
   "outputs": [
    {
     "data": {
      "image/png": "[encoded data removed]",
      "text/plain": [
       "<Figure size 864x576 with 1 Axes>"
      ]
     },
     "metadata": {
      "needs_background": "light"
     },
     "output_type": "display_data"
    }
   ],
   "source": [
    "objects = ('Abidal','Cenerol','Ecstapin','Fortifex','Prexifan')\n",
    "values = [is_Abidal, is_Cenerol, is_Ecstapin,is_Fortifex,is_Prexifan]\n",
    "\n",
    "plt.figure(figsize=(12,8)) #size of the plot\n",
    "plt.bar(objects, values,color=['lightblue','tan','lightgreen','silver','salmon'])\n",
    "plt.ylabel('Number of documents')\n",
    "plt.title('Number of documents by each medication')\n",
    "\n",
    "plt.show()"
   ]
  },
  {
   "cell_type": "markdown",
   "metadata": {},
   "source": [
    "##### Discussion "
   ]
  },
  {
   "cell_type": "markdown",
   "metadata": {},
   "source": [
    "The bar chart shows that Abidal and Ecstapin are the medications that are more frequent in the documents within the selected medications. In addition, Fortifex is the medication that has been mentioned the least with less than 50 counts.\n",
    "To be precise, the following print statement sums up the correct number of documents per medication."
   ]
  },
  {
   "cell_type": "code",
   "execution_count": 597,
   "metadata": {},
   "outputs": [
    {
     "name": "stdout",
     "output_type": "stream",
     "text": [
      "The number of documents that mention Abidal is 305\n",
      "The number of documents that mention Cenerol is 59\n",
      "The number of documents that mention Ecstapin is 294\n",
      "The number of documents that mention Fortifex is 13\n",
      "The number of documents that mention Prexifan is 106\n"
     ]
    }
   ],
   "source": [
    "print('The number of documents that mention Abidal is',is_Abidal)\n",
    "print('The number of documents that mention Cenerol is',is_Cenerol)\n",
    "print('The number of documents that mention Ecstapin is',is_Ecstapin)\n",
    "print('The number of documents that mention Fortifex is',is_Fortifex)\n",
    "print('The number of documents that mention Prexifan is',is_Prexifan)"
   ]
  },
  {
   "cell_type": "markdown",
   "metadata": {},
   "source": [
    "### Question 3 -> Which medications are associated with sleep issues? "
   ]
  },
  {
   "cell_type": "markdown",
   "metadata": {},
   "source": [
    "Identify the medications that are associated with sleep issues. Your chart or charts should clearly indicate which medications have stronger associations with sleep issues, and they should quantify the degree of association."
   ]
  },
  {
   "cell_type": "markdown",
   "metadata": {},
   "source": [
    "##### How the chart(s) was/were produced"
   ]
  },
  {
   "cell_type": "markdown",
   "metadata": {},
   "source": [
    "The first approach of this question made me think that *side_effect = Sleeplessness* was enough to identify all the documents associated with sleep issues. However, by looking at some documents, I found that some of those had  patients that complained about sleep issues but those were not captured by *side_effect = Sleeplessness*.\n",
    "\n",
    "An example of this scenario is given below."
   ]
  },
  {
   "cell_type": "code",
   "execution_count": 598,
   "metadata": {},
   "outputs": [
    {
     "data": {
      "text/html": [
       "<div>\n",
       "<style scoped>\n",
       "    .dataframe tbody tr th:only-of-type {\n",
       "        vertical-align: middle;\n",
       "    }\n",
       "\n",
       "    .dataframe tbody tr th {\n",
       "        vertical-align: top;\n",
       "    }\n",
       "\n",
       "    .dataframe thead th {\n",
       "        text-align: right;\n",
       "    }\n",
       "</style>\n",
       "<table border=\"1\" class=\"dataframe\">\n",
       "  <thead>\n",
       "    <tr style=\"text-align: right;\">\n",
       "      <th></th>\n",
       "      <th>file_name</th>\n",
       "      <th>text</th>\n",
       "      <th>dos_1</th>\n",
       "      <th>dos_2</th>\n",
       "      <th>med</th>\n",
       "      <th>side_effect</th>\n",
       "      <th>sleep_effect</th>\n",
       "    </tr>\n",
       "  </thead>\n",
       "  <tbody>\n",
       "    <tr>\n",
       "      <th>499</th>\n",
       "      <td>file1475.txt.txt</td>\n",
       "      <td>I've found that over the 10 years I've been ta...</td>\n",
       "      <td>[37.5 mg, 37.5 mg]</td>\n",
       "      <td>[5 mg, 5 mg]</td>\n",
       "      <td>[Ecstapin, Escalan, Exulactin]</td>\n",
       "      <td>[Constipation, Dizziness, Irritable]</td>\n",
       "      <td>[trouble sleeping]</td>\n",
       "    </tr>\n",
       "  </tbody>\n",
       "</table>\n",
       "</div>"
      ],
      "text/plain": [
       "            file_name                                               text  \\\n",
       "499  file1475.txt.txt  I've found that over the 10 years I've been ta...   \n",
       "\n",
       "                  dos_1         dos_2                             med  \\\n",
       "499  [37.5 mg, 37.5 mg]  [5 mg, 5 mg]  [Ecstapin, Escalan, Exulactin]   \n",
       "\n",
       "                              side_effect        sleep_effect  \n",
       "499  [Constipation, Dizziness, Irritable]  [trouble sleeping]  "
      ]
     },
     "execution_count": 598,
     "metadata": {},
     "output_type": "execute_result"
    }
   ],
   "source": [
    "df[df.file_name=='file1475.txt.txt']"
   ]
  },
  {
   "cell_type": "markdown",
   "metadata": {},
   "source": [
    "This example above shows that for this particular document there is no *Sleeplessness* as side_effect. However, if we show part of the entire message, we can clearly see how this patient actually experienced sleep issues (\"*trouble sleeping*\")."
   ]
  },
  {
   "cell_type": "markdown",
   "metadata": {},
   "source": [
    "*file1475.txt.txt* = 'I've found that over the 10 years I've been taking Ecstapin.....I have become more irritable, have trouble sleeping, and have had an increase with ADD.....'"
   ]
  },
  {
   "cell_type": "markdown",
   "metadata": {},
   "source": [
    "This fact made me create a list of sleep effects (*sleep_side_effects* see Data pre-processing). In this list, I included this group of words that may relate with sleep issues. Words such as *'trouble sleeping'* or '*not sleeping*' are only some values within this list.\n",
    "The following print statement assists us to visualize all this words that have strong connection with sleep issues."
   ]
  },
  {
   "cell_type": "code",
   "execution_count": 599,
   "metadata": {},
   "outputs": [
    {
     "name": "stdout",
     "output_type": "stream",
     "text": [
      "['issues sleeping', 'trouble sleeping', 'not sleeping', 'cannot sleep', \"can't sleep\", 'could not sleep', 'insomnia', 'sleeplessness', 'lack of sleep', 'without sleep', 'inability to sleep', 'wakefulness', 'cant sleep', 'nightmares']\n"
     ]
    }
   ],
   "source": [
    "print(list(sleep_side_effects))"
   ]
  },
  {
   "cell_type": "markdown",
   "metadata": {},
   "source": [
    "Similarly of what we previously did with medications, in the data preprocessing step, the list *sleep_effect* will be populated with the sleep issues presents in the documents. In fact, we can see from the previous example how *trouble sleeping* was correctly captured by the dataframe attribute.\n",
    "\n",
    "The next step is creating a new dataframe. We need to select a subdata by filtering those rows where a sleep effect is present.\n",
    "In conclusion, we need to count the number of medications that are associated with sleep issues. To achieve this, the function *Counter* from the *Collection* library has been used. "
   ]
  },
  {
   "cell_type": "code",
   "execution_count": 600,
   "metadata": {},
   "outputs": [
    {
     "name": "stdout",
     "output_type": "stream",
     "text": [
      "Counter({'Abidal': 27, 'Ecstapin': 22, 'Prexifan': 12, 'Elevex': 9, 'Exulactin': 6, 'Fortifex': 5, 'Promican': 5, 'Cenerol': 4, 'Escalan': 4, 'Noricam': 3, 'Amicoran': 2, 'Perinol': 1, 'Tenactol': 1, 'Vanquixal': 1, 'Respitan': 1, 'Isolex': 1, 'Sustify': 1, 'Formilan': 1, 'Imitap': 1, 'Revinor': 1, 'Noderall': 1, 'Norulen': 1})\n"
     ]
    }
   ],
   "source": [
    "## Get a boolean list representing which row satisfies the condition\n",
    "is_sleep_present = df.apply(lambda x: True if len(x['sleep_effect'])>0  else False , axis=1)\n",
    "#62 documents have been found with sleep issues\n",
    "\n",
    "#filtering the initial dataframe\n",
    "sf=df[is_sleep_present==True]['med']\n",
    "df_sleep=pd.DataFrame({'med':sf.values})\n",
    "\n",
    "#create an instance of the object Counter\n",
    "c = collections.Counter()\n",
    "\n",
    "#loop over the dataframe rows and count the occurences for each medication.\n",
    "for index, row in df_sleep.iterrows():\n",
    "    sleep_concern = row['med']\n",
    "    c.update(sleep_concern)\n",
    "print(c)"
   ]
  },
  {
   "cell_type": "markdown",
   "metadata": {},
   "source": [
    "The Counter object returns an ordered dictionary of medication occurrences. From this dictionary we have all the list of medications that are related with sleep issues and their degree of associations.\n",
    "\n",
    "The following chart will illustrate only the most common 5 medication. "
   ]
  },
  {
   "cell_type": "markdown",
   "metadata": {},
   "source": [
    "##### Chart "
   ]
  },
  {
   "cell_type": "code",
   "execution_count": 601,
   "metadata": {},
   "outputs": [],
   "source": [
    "#most_common returns a smaller dictionary with all the 5 most common items\n",
    "a=c.most_common(5)"
   ]
  },
  {
   "cell_type": "code",
   "execution_count": 602,
   "metadata": {},
   "outputs": [
    {
     "data": {
      "image/png": "[encoded data removed]",
      "text/plain": [
       "<Figure size 864x576 with 1 Axes>"
      ]
     },
     "metadata": {
      "needs_background": "light"
     },
     "output_type": "display_data"
    }
   ],
   "source": [
    "objects = (a[0][0],a[1][0],a[2][0],a[3][0],a[4][0])\n",
    "values = [a[0][1],a[1][1],a[2][1],a[3][1],a[4][1]]\n",
    "\n",
    "plt.figure(figsize=(12,8)) #size of the plot\n",
    "\n",
    "plt.bar(objects, values,color=['darkgreen','green','green','lime','lightgreen'])\n",
    "plt.ylabel('Number of documents')\n",
    "plt.title('Most common medication related to sleep issue')\n",
    "\n",
    "plt.show()"
   ]
  },
  {
   "cell_type": "markdown",
   "metadata": {},
   "source": [
    "##### Discussion "
   ]
  },
  {
   "cell_type": "markdown",
   "metadata": {},
   "source": [
    "The bar chart above shows that Abidal is the medication that is more frequently associated with sleep issues.\n",
    "The second medication is Ecstapin with 22 documents followed by Prexifan with 12.\n",
    "\n",
    "The intensity of the colorbar (from darkgreen to lightgreen) better visualize the degree of the association."
   ]
  },
  {
   "cell_type": "markdown",
   "metadata": {},
   "source": [
    "### Question 4 -> What are the most common concerns expressed?"
   ]
  },
  {
   "cell_type": "markdown",
   "metadata": {},
   "source": [
    "To complete this task, you need to determine the main concerns expressed in the posts."
   ]
  },
  {
   "cell_type": "markdown",
   "metadata": {},
   "source": [
    "##### How the chart(s) was/were produced"
   ]
  },
  {
   "cell_type": "markdown",
   "metadata": {},
   "source": [
    "This question can be interpreted in different ways. My interpretation is counting the number of side effects related to documents. In fact, it is reasonable that the effect of a certain medication might be interpreded as a concern. \n",
    "\n",
    "Therefore words such as \"*Nausea*\",\"*Stomach pain*\" or \"*Panicky*\" are fairly considered people concerns.\n",
    "\n",
    "However, a more complete analysis will be implemented in Question 5.\n"
   ]
  },
  {
   "cell_type": "markdown",
   "metadata": {},
   "source": [
    "A preliminary boolean list is created in order to filter those documents that contain at least one side effect. \n",
    "For example, *is_concern_present* returns a list of boolean where:\n",
    "\n",
    "- True means that the document mentions at least one concern (side_effect)\n",
    "- False means that the document does not mention any concern (side_effect)"
   ]
  },
  {
   "cell_type": "raw",
   "metadata": {},
   "source": []
  },
  {
   "cell_type": "code",
   "execution_count": 605,
   "metadata": {},
   "outputs": [
    {
     "name": "stdout",
     "output_type": "stream",
     "text": [
      "The total number of documents that contain at least one concern are 433\n"
     ]
    }
   ],
   "source": [
    "# Get a boolean list representing which row satisfies the condition\n",
    "is_concern_present = df.apply(lambda x: True if len(x['side_effect'])>0  else False , axis=1)\n",
    "sf2=df[is_concern_present==True]['side_effect']\n",
    "\n",
    "#create the support dataframe\n",
    "df_concern=pd.DataFrame({'concerns':sf2.values})\n",
    "\n",
    "print('The total number of documents that contain at least one concern are',df_concern.shape[0])"
   ]
  },
  {
   "cell_type": "markdown",
   "metadata": {},
   "source": [
    "After creating a support dataframe, the next step is counting the total number of occurances for each concern. Once again the *Counter* object from the *collection* library will take care of this."
   ]
  },
  {
   "cell_type": "code",
   "execution_count": 606,
   "metadata": {},
   "outputs": [
    {
     "name": "stdout",
     "output_type": "stream",
     "text": [
      "Counter({'Nausea': 83, 'Weight gain': 77, 'Headache': 61, 'Dizziness': 57, 'Sweating': 43, 'Insomnia': 35, 'Sweats': 27, 'Nightmares': 26, 'Itching': 23, 'Vomiting': 23, 'Dry mouth': 21, 'Irritable': 18, 'Constipation': 17, 'Blurred vision': 15, 'Tiredness': 14, 'Chills': 11, 'High blood pressure': 11, 'Sleeplessness': 10, 'Spasm': 9, 'Irritability': 8, 'Back pain': 8, 'vertigo': 8, 'Upset Stomach': 7, 'Loss of appetite': 7, 'Joint pain': 6, 'Weakness': 6, 'Muscle pain': 5, 'Stroke': 5, 'Weight loss': 5, 'breathing': 4, 'Allergic reaction': 4, 'Exhaustion': 3, 'Fever': 3, 'Stomach pain': 3, 'Confusion': 3, 'Heart palpitations': 3, 'Palpitations': 3, 'Chest pain': 3, 'Seizures': 3, 'Personality disorder': 2, 'Skin rash': 2, 'Moodiness': 2, 'Heart attack': 2, 'Swelling': 2, 'Hyperactive': 2, 'Hallucinations': 2, 'Colitis': 1, 'Frequent urination': 1, 'Hostility': 1, 'Hostile': 1, 'urinary retention': 1, 'Fainting': 1, 'shortness of breath': 1, 'Shortness of breath': 1, 'Abdominal pain': 1, 'Heartburn': 1, 'Irregular heartbeat': 1, 'tinnitus': 1, 'Jaundice': 1, 'Cough': 1, 'Sore throat': 1, 'Anemia': 1, 'Rectal bleeding': 1, 'Fast heartbeat': 1, 'Agitation': 1, 'Impulsive': 1})\n"
     ]
    }
   ],
   "source": [
    "#create a counter object\n",
    "d = collections.Counter()\n",
    "#loop over the dataframe rows and count the occurences for each concerns.\n",
    "for index, row in df_concern.iterrows():\n",
    "    med_concern = row['concerns']\n",
    "    d.update(med_concern) \n",
    "\n",
    "print(d)"
   ]
  },
  {
   "cell_type": "markdown",
   "metadata": {},
   "source": [
    "The complete ordered list of concerns is shown above, however the following graph will show only the most common 10 concerns."
   ]
  },
  {
   "cell_type": "markdown",
   "metadata": {},
   "source": [
    "##### Chart "
   ]
  },
  {
   "cell_type": "code",
   "execution_count": 607,
   "metadata": {},
   "outputs": [],
   "source": [
    "#most coomon 10 concerns\n",
    "b=d.most_common(10)"
   ]
  },
  {
   "cell_type": "code",
   "execution_count": 608,
   "metadata": {},
   "outputs": [
    {
     "data": {
      "image/png": "[encoded data removed]",
      "text/plain": [
       "<Figure size 1008x720 with 1 Axes>"
      ]
     },
     "metadata": {
      "needs_background": "light"
     },
     "output_type": "display_data"
    }
   ],
   "source": [
    "objects = (b[0][0],b[1][0],b[2][0],b[3][0],b[4][0],b[5][0],b[6][0],b[7][0],b[8][0],b[9][0])\n",
    "values = [b[0][1],b[1][1],b[2][1],b[3][1],b[4][1],b[5][1],b[6][1],b[7][1],b[8][1],b[9][1]]\n",
    "\n",
    "plt.figure(figsize=(14,10)) #size of the plot\n",
    "\n",
    "plt.bar(objects, values)\n",
    "plt.ylabel('Number of documents')\n",
    "plt.title('Most common concerns expressed by patients')\n",
    "\n",
    "plt.show()"
   ]
  },
  {
   "cell_type": "markdown",
   "metadata": {},
   "source": [
    "##### Discussion "
   ]
  },
  {
   "cell_type": "markdown",
   "metadata": {},
   "source": [
    "From the bar chart above, we can see that the first three most common concerns are respectively: Nausea, Weight gain and Headache."
   ]
  },
  {
   "cell_type": "markdown",
   "metadata": {},
   "source": [
    "### Question 5 -> Provide useful additional information"
   ]
  },
  {
   "cell_type": "markdown",
   "metadata": {},
   "source": [
    "This final task is open. Provide additional charts that would help the analyst find additional useful information about drug effects on patients."
   ]
  },
  {
   "cell_type": "markdown",
   "metadata": {},
   "source": [
    "##### How the chart(s) was/were produced"
   ]
  },
  {
   "cell_type": "markdown",
   "metadata": {},
   "source": [
    "As mentioned in the Question 4, a deeper analysis of people concerns will be done for this task. The idea is checking whether we can discover extra concerns from the patient comments. The approach here is different from Question 4 where we identified some possible sleep issues and store into a list. In fact, listing all possible people concerns is impossible.\n",
    "\n",
    "In order to extract some possible patterns from the documents, Text Mining will be used. \n",
    "\n",
    "The goal here is trying to \"clean\" the documents from those not important words and count word or group of words that are most common across the documents. \n",
    "\n",
    "Hopefully, this common words will add some addition insights."
   ]
  },
  {
   "cell_type": "code",
   "execution_count": 609,
   "metadata": {},
   "outputs": [],
   "source": [
    "# Create a new support dataframe\n",
    "df_clean_text = pd.DataFrame()\n",
    "\n",
    "#Let us convert all the text in lower case\n",
    "df_clean_text['text'] = df['text'].apply(lambda x: \" \".join(x.lower() for x in x.split()))\n",
    "\n",
    "#remove the stop words\n",
    "stop = stopwords.words('english')\n",
    "df_clean_text['text']  = df_clean_text['text'].apply(lambda x: \" \".join(x for x in x.split() if x not in stop))\n",
    "df_clean_text['text'].head()\n",
    "\n",
    "#remove/replace those characters that might create problems\n",
    "df_clean_text['text'] = df_clean_text['text'].str.replace('[^\\w\\s]','')\n",
    "\n",
    "\n",
    "#Stemming\n",
    "st = PorterStemmer()\n",
    "df_clean_text['text'] = df_clean_text['text'].apply(lambda x: \" \".join([st.stem(word) for word in x.split()]))"
   ]
  },
  {
   "cell_type": "markdown",
   "metadata": {},
   "source": [
    "The highlights of the above code are:\n",
    "\n",
    "- The documents has been converted in lower case.\n",
    "\n",
    "\n",
    "- English stop words have been removed, and they refer to those words that are usually not important such as *this* or *there*.\n",
    "\n",
    "\n",
    "- Stemming removes the part of a word that has the inflection to produce the stem. Therefore, for instance words such medication, medications or medicated will be in common to the root \"medicat\"."
   ]
  },
  {
   "cell_type": "markdown",
   "metadata": {},
   "source": [
    "Once the text is in a cleaner format (additional checks may be done) we need to check those words that are common across the documents and see whether we can find something interesting. The following codes achieve this and we are checking common group of words that vary from 1 to 3 in lenght. "
   ]
  },
  {
   "cell_type": "markdown",
   "metadata": {},
   "source": [
    "##### Most frequent words (lenght = 1)"
   ]
  },
  {
   "cell_type": "code",
   "execution_count": 610,
   "metadata": {},
   "outputs": [
    {
     "data": {
      "text/html": [
       "<div>\n",
       "<style scoped>\n",
       "    .dataframe tbody tr th:only-of-type {\n",
       "        vertical-align: middle;\n",
       "    }\n",
       "\n",
       "    .dataframe tbody tr th {\n",
       "        vertical-align: top;\n",
       "    }\n",
       "\n",
       "    .dataframe thead th {\n",
       "        text-align: right;\n",
       "    }\n",
       "</style>\n",
       "<table border=\"1\" class=\"dataframe\">\n",
       "  <thead>\n",
       "    <tr style=\"text-align: right;\">\n",
       "      <th></th>\n",
       "      <th>frequency</th>\n",
       "    </tr>\n",
       "  </thead>\n",
       "  <tbody>\n",
       "    <tr>\n",
       "      <th>take</th>\n",
       "      <td>859</td>\n",
       "    </tr>\n",
       "    <tr>\n",
       "      <th>depress</th>\n",
       "      <td>722</td>\n",
       "    </tr>\n",
       "    <tr>\n",
       "      <th>effect</th>\n",
       "      <td>562</td>\n",
       "    </tr>\n",
       "    <tr>\n",
       "      <th>feel</th>\n",
       "      <td>550</td>\n",
       "    </tr>\n",
       "    <tr>\n",
       "      <th>work</th>\n",
       "      <td>531</td>\n",
       "    </tr>\n",
       "    <tr>\n",
       "      <th>drug</th>\n",
       "      <td>502</td>\n",
       "    </tr>\n",
       "    <tr>\n",
       "      <th>year</th>\n",
       "      <td>485</td>\n",
       "    </tr>\n",
       "    <tr>\n",
       "      <th>side</th>\n",
       "      <td>456</td>\n",
       "    </tr>\n",
       "    <tr>\n",
       "      <th>day</th>\n",
       "      <td>454</td>\n",
       "    </tr>\n",
       "    <tr>\n",
       "      <th>medic</th>\n",
       "      <td>449</td>\n",
       "    </tr>\n",
       "  </tbody>\n",
       "</table>\n",
       "</div>"
      ],
      "text/plain": [
       "         frequency\n",
       "take           859\n",
       "depress        722\n",
       "effect         562\n",
       "feel           550\n",
       "work           531\n",
       "drug           502\n",
       "year           485\n",
       "side           456\n",
       "day            454\n",
       "medic          449"
      ]
     },
     "execution_count": 610,
     "metadata": {},
     "output_type": "execute_result"
    }
   ],
   "source": [
    "#Convert a collection of text documents to a matrix of token counts\n",
    "word_vectorizer = CountVectorizer(ngram_range=(1,1), analyzer='word')\n",
    "sparse_matrix = word_vectorizer.fit_transform(df_clean_text['text'])\n",
    "frequencies = sum(sparse_matrix).toarray()[0]\n",
    "df_ngram_freq = pd.DataFrame(frequencies, index=word_vectorizer.get_feature_names(), columns=['frequency'])\n",
    "df_ngram_freq.sort_values(by=['frequency'], ascending=False).head(10)"
   ]
  },
  {
   "cell_type": "markdown",
   "metadata": {},
   "source": [
    "The above table shows the ten most frequent words of length 1 in all the documents. Unfortunatelly, this does not look really interesting for our purposes.\n",
    "Let us check the most common words of lenght 2."
   ]
  },
  {
   "cell_type": "markdown",
   "metadata": {},
   "source": [
    "##### Most frequent words (lenght = 2)"
   ]
  },
  {
   "cell_type": "code",
   "execution_count": 611,
   "metadata": {},
   "outputs": [
    {
     "data": {
      "text/html": [
       "<div>\n",
       "<style scoped>\n",
       "    .dataframe tbody tr th:only-of-type {\n",
       "        vertical-align: middle;\n",
       "    }\n",
       "\n",
       "    .dataframe tbody tr th {\n",
       "        vertical-align: top;\n",
       "    }\n",
       "\n",
       "    .dataframe thead th {\n",
       "        text-align: right;\n",
       "    }\n",
       "</style>\n",
       "<table border=\"1\" class=\"dataframe\">\n",
       "  <thead>\n",
       "    <tr style=\"text-align: right;\">\n",
       "      <th></th>\n",
       "      <th>frequency</th>\n",
       "    </tr>\n",
       "  </thead>\n",
       "  <tbody>\n",
       "    <tr>\n",
       "      <th>side effect</th>\n",
       "      <td>399</td>\n",
       "    </tr>\n",
       "    <tr>\n",
       "      <th>feel like</th>\n",
       "      <td>97</td>\n",
       "    </tr>\n",
       "    <tr>\n",
       "      <th>weight gain</th>\n",
       "      <td>94</td>\n",
       "    </tr>\n",
       "    <tr>\n",
       "      <th>take it</th>\n",
       "      <td>76</td>\n",
       "    </tr>\n",
       "    <tr>\n",
       "      <th>stop take</th>\n",
       "      <td>73</td>\n",
       "    </tr>\n",
       "    <tr>\n",
       "      <th>take abid</th>\n",
       "      <td>69</td>\n",
       "    </tr>\n",
       "    <tr>\n",
       "      <th>start take</th>\n",
       "      <td>68</td>\n",
       "    </tr>\n",
       "    <tr>\n",
       "      <th>help depress</th>\n",
       "      <td>67</td>\n",
       "    </tr>\n",
       "    <tr>\n",
       "      <th>work well</th>\n",
       "      <td>63</td>\n",
       "    </tr>\n",
       "    <tr>\n",
       "      <th>depress anxieti</th>\n",
       "      <td>60</td>\n",
       "    </tr>\n",
       "    <tr>\n",
       "      <th>withdraw symptom</th>\n",
       "      <td>54</td>\n",
       "    </tr>\n",
       "    <tr>\n",
       "      <th>take medic</th>\n",
       "      <td>53</td>\n",
       "    </tr>\n",
       "    <tr>\n",
       "      <th>much better</th>\n",
       "      <td>49</td>\n",
       "    </tr>\n",
       "    <tr>\n",
       "      <th>take ecstapin</th>\n",
       "      <td>49</td>\n",
       "    </tr>\n",
       "    <tr>\n",
       "      <th>take drug</th>\n",
       "      <td>49</td>\n",
       "    </tr>\n",
       "    <tr>\n",
       "      <th>work great</th>\n",
       "      <td>46</td>\n",
       "    </tr>\n",
       "    <tr>\n",
       "      <th>brain zap</th>\n",
       "      <td>46</td>\n",
       "    </tr>\n",
       "    <tr>\n",
       "      <th>major depress</th>\n",
       "      <td>45</td>\n",
       "    </tr>\n",
       "    <tr>\n",
       "      <th>feel better</th>\n",
       "      <td>45</td>\n",
       "    </tr>\n",
       "    <tr>\n",
       "      <th>miss dose</th>\n",
       "      <td>45</td>\n",
       "    </tr>\n",
       "  </tbody>\n",
       "</table>\n",
       "</div>"
      ],
      "text/plain": [
       "                  frequency\n",
       "side effect             399\n",
       "feel like                97\n",
       "weight gain              94\n",
       "take it                  76\n",
       "stop take                73\n",
       "take abid                69\n",
       "start take               68\n",
       "help depress             67\n",
       "work well                63\n",
       "depress anxieti          60\n",
       "withdraw symptom         54\n",
       "take medic               53\n",
       "much better              49\n",
       "take ecstapin            49\n",
       "take drug                49\n",
       "work great               46\n",
       "brain zap                46\n",
       "major depress            45\n",
       "feel better              45\n",
       "miss dose                45"
      ]
     },
     "execution_count": 611,
     "metadata": {},
     "output_type": "execute_result"
    }
   ],
   "source": [
    "word_vectorizer = CountVectorizer(ngram_range=(2,2), analyzer='word')\n",
    "sparse_matrix = word_vectorizer.fit_transform(df_clean_text['text'])\n",
    "frequencies = sum(sparse_matrix).toarray()[0]\n",
    "df_ngram_freq = pd.DataFrame(frequencies, index=word_vectorizer.get_feature_names(), columns=['frequency'])\n",
    "df_ngram_freq.sort_values(by=['frequency'], ascending=False).head(20)"
   ]
  },
  {
   "cell_type": "markdown",
   "metadata": {},
   "source": [
    "The above table shows the twenty most frequent words of length 2 in all the documents. \n",
    "This table is actually really interesting for the two following reasons:\n",
    "\n",
    "- *weight gain* is a concern we were able to catch in question 4. In this case the frequency is slightly higher, but this might be explained by the fact that a certain document may contain this concern more than one time within the text.\n",
    "\n",
    "\n",
    "- *brain zap* is definitely a concern we were not able to identify. According to his definition the term “brain zaps” refers to a withdrawal symptom common for individuals who cease taking certain medication for depression and anxiety \n",
    "\n",
    "\n",
    "Through text mining we found that the word *brain zap* was mentioned 46 times across the documents. This \"new\" concern will be added and highlighted in the \"*Most common concerns expressed by patients*\" plot."
   ]
  },
  {
   "cell_type": "markdown",
   "metadata": {},
   "source": [
    "##### Most frequent words (lenght = 3)"
   ]
  },
  {
   "cell_type": "code",
   "execution_count": 612,
   "metadata": {},
   "outputs": [
    {
     "data": {
      "text/html": [
       "<div>\n",
       "<style scoped>\n",
       "    .dataframe tbody tr th:only-of-type {\n",
       "        vertical-align: middle;\n",
       "    }\n",
       "\n",
       "    .dataframe tbody tr th {\n",
       "        vertical-align: top;\n",
       "    }\n",
       "\n",
       "    .dataframe thead th {\n",
       "        text-align: right;\n",
       "    }\n",
       "</style>\n",
       "<table border=\"1\" class=\"dataframe\">\n",
       "  <thead>\n",
       "    <tr style=\"text-align: right;\">\n",
       "      <th></th>\n",
       "      <th>frequency</th>\n",
       "    </tr>\n",
       "  </thead>\n",
       "  <tbody>\n",
       "    <tr>\n",
       "      <th>sexual side effect</th>\n",
       "      <td>23</td>\n",
       "    </tr>\n",
       "    <tr>\n",
       "      <th>feel much better</th>\n",
       "      <td>17</td>\n",
       "    </tr>\n",
       "    <tr>\n",
       "      <th>bad side effect</th>\n",
       "      <td>16</td>\n",
       "    </tr>\n",
       "    <tr>\n",
       "      <th>start take abid</th>\n",
       "      <td>12</td>\n",
       "    </tr>\n",
       "    <tr>\n",
       "      <th>work well me</th>\n",
       "      <td>12</td>\n",
       "    </tr>\n",
       "    <tr>\n",
       "      <th>stop take it</th>\n",
       "      <td>12</td>\n",
       "    </tr>\n",
       "    <tr>\n",
       "      <th>high blood pressur</th>\n",
       "      <td>11</td>\n",
       "    </tr>\n",
       "    <tr>\n",
       "      <th>side effect bad</th>\n",
       "      <td>10</td>\n",
       "    </tr>\n",
       "    <tr>\n",
       "      <th>like new person</th>\n",
       "      <td>9</td>\n",
       "    </tr>\n",
       "    <tr>\n",
       "      <th>miss one dose</th>\n",
       "      <td>9</td>\n",
       "    </tr>\n",
       "    <tr>\n",
       "      <th>feel like im</th>\n",
       "      <td>9</td>\n",
       "    </tr>\n",
       "    <tr>\n",
       "      <th>first start take</th>\n",
       "      <td>9</td>\n",
       "    </tr>\n",
       "    <tr>\n",
       "      <th>tri mani antidepress</th>\n",
       "      <td>9</td>\n",
       "    </tr>\n",
       "    <tr>\n",
       "      <th>feel like new</th>\n",
       "      <td>9</td>\n",
       "    </tr>\n",
       "    <tr>\n",
       "      <th>mg per day</th>\n",
       "      <td>8</td>\n",
       "    </tr>\n",
       "    <tr>\n",
       "      <th>help depress anxieti</th>\n",
       "      <td>8</td>\n",
       "    </tr>\n",
       "    <tr>\n",
       "      <th>side effect go</th>\n",
       "      <td>8</td>\n",
       "    </tr>\n",
       "    <tr>\n",
       "      <th>horribl side effect</th>\n",
       "      <td>8</td>\n",
       "    </tr>\n",
       "    <tr>\n",
       "      <th>start take ecstapin</th>\n",
       "      <td>8</td>\n",
       "    </tr>\n",
       "    <tr>\n",
       "      <th>one side effect</th>\n",
       "      <td>7</td>\n",
       "    </tr>\n",
       "  </tbody>\n",
       "</table>\n",
       "</div>"
      ],
      "text/plain": [
       "                      frequency\n",
       "sexual side effect           23\n",
       "feel much better             17\n",
       "bad side effect              16\n",
       "start take abid              12\n",
       "work well me                 12\n",
       "stop take it                 12\n",
       "high blood pressur           11\n",
       "side effect bad              10\n",
       "like new person               9\n",
       "miss one dose                 9\n",
       "feel like im                  9\n",
       "first start take              9\n",
       "tri mani antidepress          9\n",
       "feel like new                 9\n",
       "mg per day                    8\n",
       "help depress anxieti          8\n",
       "side effect go                8\n",
       "horribl side effect           8\n",
       "start take ecstapin           8\n",
       "one side effect               7"
      ]
     },
     "execution_count": 612,
     "metadata": {},
     "output_type": "execute_result"
    }
   ],
   "source": [
    "word_vectorizer = CountVectorizer(ngram_range=(3,3), analyzer='word')\n",
    "sparse_matrix = word_vectorizer.fit_transform(df_clean_text['text'])\n",
    "frequencies = sum(sparse_matrix).toarray()[0]\n",
    "df_ngram_freq = pd.DataFrame(frequencies, index=word_vectorizer.get_feature_names(), columns=['frequency'])\n",
    "df_ngram_freq.sort_values(by=['frequency'], ascending=False).head(20)"
   ]
  },
  {
   "cell_type": "markdown",
   "metadata": {},
   "source": [
    "Finally, the above table shows the twenty most frequent words of length 3 in all the documents. Once again, we can immediately identify a \"new\" concern under the name *sexual side effect*  (the first row of this table). \n",
    "\n",
    "Lack of sexual desire and difficulties performing during intimate encounters can be symptoms of depression, but they can also be side effects of many medications used to treat depression.\n",
    "\n",
    "This \"new\" concern will be added and highlighted in the \"*Most common concerns expressed by patients*\" plot."
   ]
  },
  {
   "cell_type": "markdown",
   "metadata": {},
   "source": [
    "##### Chart "
   ]
  },
  {
   "cell_type": "code",
   "execution_count": 613,
   "metadata": {},
   "outputs": [
    {
     "data": {
      "image/png": "[encoded data removed]",
      "text/plain": [
       "<Figure size 1440x720 with 1 Axes>"
      ]
     },
     "metadata": {
      "needs_background": "light"
     },
     "output_type": "display_data"
    }
   ],
   "source": [
    "#inserting the two new concerns in the most common concerns expressed by patients list of tuples\n",
    "b.insert(4,('brain zap',46))\n",
    "\n",
    "b.insert(9,('sexual side effect',23))\n",
    "\n",
    "\n",
    "objects = (b[0][0],b[1][0],b[2][0],b[3][0],b[4][0],b[5][0],b[6][0],b[7][0],b[8][0],b[9][0],b[10][0],b[11][0])\n",
    "values = [b[0][1],b[1][1],b[2][1],b[3][1],b[4][1],b[5][1],b[6][1],b[7][1],b[8][1],b[9][1],b[10][1],b[11][1]]\n",
    "\n",
    "plt.figure(figsize=(20,10)) #size of the plot\n",
    "\n",
    "plt.bar(objects, values,color=['blue','blue','blue','blue','red','blue','blue','blue','blue','red','blue',])\n",
    "plt.ylabel('Number of documents')\n",
    "plt.title('Most common concerns expressed by patients (updated)')\n",
    "\n",
    "plt.show()"
   ]
  },
  {
   "cell_type": "markdown",
   "metadata": {},
   "source": [
    "##### Discussion "
   ]
  },
  {
   "cell_type": "markdown",
   "metadata": {},
   "source": [
    "The bar chart has now been updated with the new concerns we found from text mining (Red bars).\n",
    "In conclusion, we were able to add two new concerns to this graph by applying text mining."
   ]
  }
 ],
 "metadata": {
  "kernelspec": {
   "display_name": "Python 3",
   "language": "python",
   "name": "python3"
  },
  "language_info": {
   "codemirror_mode": {
    "name": "ipython",
    "version": 3
   },
   "file_extension": ".py",
   "mimetype": "text/x-python",
   "name": "python",
   "nbconvert_exporter": "python",
   "pygments_lexer": "ipython3",
   "version": "3.7.3"
  }
 },
 "nbformat": 4,
 "nbformat_minor": 2
}
